{
 "cells": [
  {
   "cell_type": "markdown",
   "metadata": {},
   "source": [
    "# Project Note Book\n",
    "\n",
    "In this notebook we have the entire pipeline of the project. Here, we use the models from [Hugging Face](https://huggingface.co/nlp-group-6) to be able to run our pipline. But if you would like to see how we trained the models, you can check the \"notebooks\" folder in the repository."
   ]
  },
  {
   "cell_type": "markdown",
   "metadata": {},
   "source": [
    "## Pipeline\n",
    "\n",
    "Our pipeline consists of the following steps:\n",
    "1. Generate the question given the context and the answer.\n",
    "2. Generate the disractor given the question and the answer.\n",
    "\n",
    "This can be outline in image below:\n",
    "\n",
    "![pipeline](images/pipeline.png)"
   ]
  },
  {
   "cell_type": "markdown",
   "metadata": {},
   "source": [
    "First we import the transformers library from Hugging Face and the models we will use in the pipeline."
   ]
  },
  {
   "cell_type": "code",
   "execution_count": null,
   "metadata": {},
   "outputs": [],
   "source": [
    "from transformers import BartTokenizer, BartForConditionalGeneration"
   ]
  },
  {
   "cell_type": "markdown",
   "metadata": {},
   "source": [
    "Then we start with the question generator model."
   ]
  },
  {
   "cell_type": "code",
   "execution_count": null,
   "metadata": {},
   "outputs": [],
   "source": [
    "question_model = BartForConditionalGeneration.from_pretrained('nlp-group-6/sciq-question-generator')\n",
    "question_tokenizer = BartTokenizer.from_pretrained('nlp-group-6/sciq-question-generator')"
   ]
  },
  {
   "cell_type": "markdown",
   "metadata": {},
   "source": [
    "Finally, we load the disractor generator model."
   ]
  },
  {
   "cell_type": "code",
   "execution_count": null,
   "metadata": {},
   "outputs": [],
   "source": [
    "options_model = BartForConditionalGeneration.from_pretrained('nlp-group-6/sciq-options-generator-with-context')\n",
    "options_tokenizer = BartTokenizer.from_pretrained('nlp-group-6/sciq-options-generator-with-context')"
   ]
  },
  {
   "cell_type": "markdown",
   "metadata": {},
   "source": [
    "Now we put the pipeline together and test it with a simple example."
   ]
  },
  {
   "cell_type": "code",
   "execution_count": 8,
   "metadata": {},
   "outputs": [
    {
     "name": "stdout",
     "output_type": "stream",
     "text": [
      "What type of animal is milk?\n",
      "white\n",
      "['Milk is red', 'Milk is white', 'Milk is black', 'Milk is blue']\n"
     ]
    }
   ],
   "source": [
    "support = \"Milk has a white color.\"\n",
    "\n",
    "# generate the question\n",
    "inputs = question_tokenizer([support], return_tensors='pt', max_length=512, truncation=True)\n",
    "question = question_model.generate(**inputs)\n",
    "question = question_tokenizer.decode(question[0], skip_special_tokens=True)\n",
    "\n",
    "correct_answer = \"white\"\n",
    "\n",
    "# generate the options\n",
    "inputs = options_tokenizer([support], return_tensors='pt', max_length=512, truncation=True)\n",
    "options = options_model.generate(**inputs, num_return_sequences=4, num_beams=4, max_length=50)\n",
    "options = options_tokenizer.batch_decode(options, skip_special_tokens=True)\n",
    "\n",
    "print(question)\n",
    "print(correct_answer)\n",
    "print(options)"
   ]
  }
 ],
 "metadata": {
  "kernelspec": {
   "display_name": ".venv",
   "language": "python",
   "name": "python3"
  },
  "language_info": {
   "codemirror_mode": {
    "name": "ipython",
    "version": 3
   },
   "file_extension": ".py",
   "mimetype": "text/x-python",
   "name": "python",
   "nbconvert_exporter": "python",
   "pygments_lexer": "ipython3",
   "version": "3.12.2"
  }
 },
 "nbformat": 4,
 "nbformat_minor": 2
}
