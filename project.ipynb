{
 "cells": [
  {
   "cell_type": "markdown",
   "metadata": {},
   "source": [
    "# Project Note Book\n",
    "\n",
    "In this notebook we have the entire pipeline of the project. Here, we use the models from [Hugging Face](https://huggingface.co/nlp-group-6) to be able to run our pipline. But if you would like to see how we trained the models, you can check the \"notebooks\" folder in the repository."
   ]
  },
  {
   "cell_type": "markdown",
   "metadata": {},
   "source": [
    "## Pipeline\n",
    "\n",
    "Our pipeline consists of the following steps:\n",
    "1. Generate the question given the context and the answer.\n",
    "2. Generate the disractor given the question and the answer.\n",
    "\n",
    "This can be outline in image below:\n",
    "\n",
    "![pipeline](images/pipeline.png)"
   ]
  },
  {
   "cell_type": "markdown",
   "metadata": {},
   "source": [
    "First we import the transformers library from Hugging Face and the models we will use in the pipeline."
   ]
  },
  {
   "cell_type": "code",
   "metadata": {
    "ExecuteTime": {
     "end_time": "2024-04-06T17:24:23.606386Z",
     "start_time": "2024-04-06T17:24:22.070159Z"
    }
   },
   "source": [
    "from transformers import BartTokenizer, BartForConditionalGeneration"
   ],
   "outputs": [],
   "execution_count": 1
  },
  {
   "cell_type": "markdown",
   "metadata": {},
   "source": [
    "Then we start with the question generator model."
   ]
  },
  {
   "cell_type": "code",
   "metadata": {
    "ExecuteTime": {
     "end_time": "2024-04-06T17:24:27.337179Z",
     "start_time": "2024-04-06T17:24:23.607384Z"
    }
   },
   "source": [
    "question_model = BartForConditionalGeneration.from_pretrained('nlp-group-6/sciq-question-generator')\n",
    "question_tokenizer = BartTokenizer.from_pretrained('nlp-group-6/sciq-question-generator')"
   ],
   "outputs": [
    {
     "data": {
      "text/plain": [
       "tokenizer_config.json:   0%|          | 0.00/1.21k [00:00<?, ?B/s]"
      ],
      "application/vnd.jupyter.widget-view+json": {
       "version_major": 2,
       "version_minor": 0,
       "model_id": "4b8ca67f5e484d8588412b7483a5d58b"
      }
     },
     "metadata": {},
     "output_type": "display_data"
    },
    {
     "data": {
      "text/plain": [
       "vocab.json:   0%|          | 0.00/798k [00:00<?, ?B/s]"
      ],
      "application/vnd.jupyter.widget-view+json": {
       "version_major": 2,
       "version_minor": 0,
       "model_id": "787253d7e9e6405d85a26c40702fadbf"
      }
     },
     "metadata": {},
     "output_type": "display_data"
    },
    {
     "data": {
      "text/plain": [
       "merges.txt:   0%|          | 0.00/456k [00:00<?, ?B/s]"
      ],
      "application/vnd.jupyter.widget-view+json": {
       "version_major": 2,
       "version_minor": 0,
       "model_id": "5a23147bbbbf4b97866038676ce6d59a"
      }
     },
     "metadata": {},
     "output_type": "display_data"
    },
    {
     "data": {
      "text/plain": [
       "special_tokens_map.json:   0%|          | 0.00/279 [00:00<?, ?B/s]"
      ],
      "application/vnd.jupyter.widget-view+json": {
       "version_major": 2,
       "version_minor": 0,
       "model_id": "edb36e78639e42f199dbd90ef58eea7f"
      }
     },
     "metadata": {},
     "output_type": "display_data"
    },
    {
     "data": {
      "text/plain": [
       "tokenizer.json:   0%|          | 0.00/2.11M [00:00<?, ?B/s]"
      ],
      "application/vnd.jupyter.widget-view+json": {
       "version_major": 2,
       "version_minor": 0,
       "model_id": "7e957b2961bd4477b77fb45e8fc7a764"
      }
     },
     "metadata": {},
     "output_type": "display_data"
    }
   ],
   "execution_count": 2
  },
  {
   "cell_type": "markdown",
   "metadata": {},
   "source": [
    "Finally, we load the disractor generator model."
   ]
  },
  {
   "cell_type": "code",
   "metadata": {
    "ExecuteTime": {
     "end_time": "2024-04-06T17:24:28.622560Z",
     "start_time": "2024-04-06T17:24:27.338157Z"
    }
   },
   "source": [
    "options_model = BartForConditionalGeneration.from_pretrained('nlp-group-6/sciq-options-generator-generated-questions')\n",
    "options_tokenizer = BartTokenizer.from_pretrained('nlp-group-6/sciq-options-generator-generated-questions')"
   ],
   "outputs": [],
   "execution_count": 3
  },
  {
   "cell_type": "markdown",
   "metadata": {},
   "source": [
    "Now we put the pipeline together and test it with a simple example."
   ]
  },
  {
   "cell_type": "code",
   "metadata": {
    "ExecuteTime": {
     "end_time": "2024-04-06T17:24:28.941464Z",
     "start_time": "2024-04-06T17:24:28.624510Z"
    }
   },
   "source": [
    "support = \"Milk has a white color.\"\n",
    "\n",
    "# generate the question\n",
    "inputs = question_tokenizer([support], return_tensors='pt', max_length=512, truncation=True)\n",
    "question = question_model.generate(**inputs)\n",
    "question = question_tokenizer.decode(question[0], skip_special_tokens=True)\n",
    "\n",
    "correct_answer = \"white\"\n",
    "\n",
    "# generate the options\n",
    "inputs = options_tokenizer([support], return_tensors='pt', max_length=512, truncation=True)\n",
    "options = options_model.generate(**inputs, num_return_sequences=4, num_beams=4, max_length=50)\n",
    "options = options_tokenizer.batch_decode(options, skip_special_tokens=True)\n",
    "\n",
    "print(question)\n",
    "print(correct_answer)\n",
    "print(options)"
   ],
   "outputs": [
    {
     "name": "stderr",
     "output_type": "stream",
     "text": [
      "/home/roben/Documents/courses/NLP/Science-Quiz-Generation/venv/lib/python3.10/site-packages/transformers/generation/utils.py:1178: UserWarning: Using the model-agnostic default `max_length` (=20) to control the generation length. We recommend setting `max_new_tokens` to control the maximum length of the generation.\n",
      "  warnings.warn(\n"
     ]
    },
    {
     "name": "stdout",
     "output_type": "stream",
     "text": [
      "What color is milk?\n",
      "white\n",
      "['Milk has a blue color', 'Milk has a black color', 'Milk has a yellow color', 'milk has a blue color']\n"
     ]
    }
   ],
   "execution_count": 4
  }
 ],
 "metadata": {
  "kernelspec": {
   "display_name": ".venv",
   "language": "python",
   "name": "python3"
  },
  "language_info": {
   "codemirror_mode": {
    "name": "ipython",
    "version": 3
   },
   "file_extension": ".py",
   "mimetype": "text/x-python",
   "name": "python",
   "nbconvert_exporter": "python",
   "pygments_lexer": "ipython3",
   "version": "3.12.2"
  }
 },
 "nbformat": 4,
 "nbformat_minor": 2
}
