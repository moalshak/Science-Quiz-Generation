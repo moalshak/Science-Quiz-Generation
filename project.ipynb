{
 "cells": [
  {
   "cell_type": "code",
   "execution_count": 4,
   "metadata": {},
   "outputs": [],
   "source": [
    "from transformers import BartTokenizer, BartForConditionalGeneration\n",
    "\n",
    "question_model = BartForConditionalGeneration.from_pretrained('moalshak/sciq-question-generator')\n",
    "question_tokenizer = BartTokenizer.from_pretrained('moalshak/sciq-question-generator')\n",
    "\n",
    "options_model = BartForConditionalGeneration.from_pretrained('moalshak/sciq-options-generator-with-context')\n",
    "options_tokenizer = BartTokenizer.from_pretrained('moalshak/sciq-options-generator-with-context')\n",
    "\n",
    "correct_answer_model = BartForConditionalGeneration.from_pretrained('moalshak/correct-answer-generator')\n",
    "correct_answer_tokenizer = BartTokenizer.from_pretrained('moalshak/correct-answer-generator')\n",
    "\n"
   ]
  },
  {
   "cell_type": "code",
   "execution_count": 8,
   "metadata": {},
   "outputs": [
    {
     "name": "stdout",
     "output_type": "stream",
     "text": [
      "What type of animal is milk?\n",
      "white\n",
      "['Milk is red', 'Milk is white', 'Milk is black', 'Milk is blue']\n"
     ]
    }
   ],
   "source": [
    "support = \"Milk has a white color.\"\n",
    "\n",
    "# generate the question\n",
    "inputs = question_tokenizer([support], return_tensors='pt', max_length=512, truncation=True)\n",
    "question = question_model.generate(**inputs)\n",
    "question = question_tokenizer.decode(question[0], skip_special_tokens=True)\n",
    "\n",
    "# generate the correct answer\n",
    "inputs = correct_answer_tokenizer([support], return_tensors='pt', max_length=512, truncation=True)\n",
    "correct_answer = correct_answer_model.generate(**inputs)\n",
    "correct_answer = correct_answer_tokenizer.decode(correct_answer[0], skip_special_tokens=True)\n",
    "\n",
    "# generate the options\n",
    "inputs = options_tokenizer([support], return_tensors='pt', max_length=512, truncation=True)\n",
    "options = options_model.generate(**inputs, num_return_sequences=4, num_beams=4, max_length=50)\n",
    "options = options_tokenizer.batch_decode(options, skip_special_tokens=True)\n",
    "\n",
    "print(question)\n",
    "print(correct_answer)\n",
    "print(options)\n",
    "\n"
   ]
  }
 ],
 "metadata": {
  "kernelspec": {
   "display_name": ".venv",
   "language": "python",
   "name": "python3"
  },
  "language_info": {
   "codemirror_mode": {
    "name": "ipython",
    "version": 3
   },
   "file_extension": ".py",
   "mimetype": "text/x-python",
   "name": "python",
   "nbconvert_exporter": "python",
   "pygments_lexer": "ipython3",
   "version": "3.12.2"
  }
 },
 "nbformat": 4,
 "nbformat_minor": 2
}
