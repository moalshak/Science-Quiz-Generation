{
 "cells": [
  {
   "cell_type": "code",
   "execution_count": null,
   "id": "initial_id",
   "metadata": {
    "collapsed": true
   },
   "outputs": [],
   "source": "!pip install -r requirements.txt"
  },
  {
   "metadata": {},
   "cell_type": "code",
   "outputs": [],
   "execution_count": null,
   "source": [
    "import torch\n",
    "from datasets import load_dataset\n",
    "from transformers import AutoTokenizer, Seq2SeqTrainingArguments, Seq2SeqTrainer\n",
    "from transformers import BartForConditionalGeneration\n",
    "# make sure to include cuda\n",
    "device = torch.device(\"cuda\" if torch.cuda.is_available() else \"cpu\")\n",
    "print(device)\n",
    "\n",
    "tokenizer = AutoTokenizer.from_pretrained('facebook/bart-base')\n",
    "\n",
    "data = load_dataset(\"allenai/sciq\")"
   ],
   "id": "806a8ffa90f45fd5"
  },
  {
   "metadata": {},
   "cell_type": "code",
   "outputs": [],
   "execution_count": null,
   "source": [
    "max_input = 512\n",
    "max_target = 128\n",
    "batch_size = 36"
   ],
   "id": "ba257761377cc459"
  },
  {
   "metadata": {},
   "cell_type": "code",
   "outputs": [],
   "execution_count": null,
   "source": [
    "args1 = Seq2SeqTrainingArguments(\n",
    "        output_dir=\"./results_prediction_question\",\n",
    "        evaluation_strategy='epoch',\n",
    "        learning_rate=2e-5,\n",
    "        per_device_train_batch_size=batch_size,\n",
    "        per_device_eval_batch_size=batch_size,\n",
    "        gradient_accumulation_steps=2,\n",
    "        weight_decay=0.01,\n",
    "        save_total_limit=2,\n",
    "        num_train_epochs=32,\n",
    "        predict_with_generate=True,\n",
    "        eval_accumulation_steps=32,\n",
    "        fp16=torch.cuda.is_available()  # available only with CUDA\n",
    "    )\n",
    "\n",
    "MODEL_FOLDER = \"models/sciq\"\n",
    "\n",
    "questions_model = BartForConditionalGeneration.from_pretrained(f\"./{MODEL_FOLDER}\")\n",
    "questions_trainer = Seq2SeqTrainer(\n",
    "    questions_model,\n",
    "    args1,\n",
    "    tokenizer=tokenizer,\n",
    ")"
   ],
   "id": "fb6882ca6a2ca751"
  },
  {
   "metadata": {},
   "cell_type": "code",
   "outputs": [],
   "execution_count": null,
   "source": [
    "def pre_process_data_question_model(data):\n",
    "    # tokenize the data\n",
    "    inputs = tokenizer(data['support'], data['correct_answer'], padding=\"max_length\", truncation=True, max_length=max_input, return_tensors=\"pt\")\n",
    "    targets = tokenizer(data['question'], padding=\"max_length\", truncation=True, max_length=max_target, return_tensors=\"pt\")\n",
    "    return {\"input_ids\": inputs.input_ids, \"attention_mask\": inputs.attention_mask, \"labels\": targets.input_ids}\n",
    "\n",
    "def add_generated_question(dataset):\n",
    "    question_data = dataset.map(pre_process_data_question_model, batched=True)\n",
    "    predictions = questions_trainer.predict(question_data, max_length=64)\n",
    "    valid_tokens = []\n",
    "    for prediction in predictions[0]:\n",
    "        valid_tokens.append([token for token in prediction if token != -100])\n",
    "    generated_questions = tokenizer.batch_decode(valid_tokens, skip_special_tokens=True)\n",
    "    return dataset.add_column(\"generated_question\", generated_questions)\n",
    "\n",
    "data['validation'] = add_generated_question(data['validation'])\n",
    "data['train'] = add_generated_question(data['train'])\n",
    "data['test'] = add_generated_question(data['test'])"
   ],
   "id": "390bd41106ed40b2"
  },
  {
   "metadata": {},
   "cell_type": "code",
   "outputs": [],
   "execution_count": null,
   "source": "data.save_to_disk(\"datasets/generated-questions.hf\")",
   "id": "aac9fe838d7d98f8"
  }
 ],
 "metadata": {
  "kernelspec": {
   "display_name": "Python 3",
   "language": "python",
   "name": "python3"
  },
  "language_info": {
   "codemirror_mode": {
    "name": "ipython",
    "version": 2
   },
   "file_extension": ".py",
   "mimetype": "text/x-python",
   "name": "python",
   "nbconvert_exporter": "python",
   "pygments_lexer": "ipython2",
   "version": "2.7.6"
  }
 },
 "nbformat": 4,
 "nbformat_minor": 5
}
