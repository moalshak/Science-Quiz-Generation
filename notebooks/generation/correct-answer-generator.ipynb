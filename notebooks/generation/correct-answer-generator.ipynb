{
 "cells": [
  {
   "cell_type": "markdown",
   "metadata": {},
   "source": [
    "# Correct Answer Generator (Experimental)"
   ]
  },
  {
   "cell_type": "code",
   "execution_count": null,
   "metadata": {},
   "outputs": [],
   "source": [
    "! pip install -r requirements.txt"
   ]
  },
  {
   "cell_type": "code",
   "execution_count": 1,
   "metadata": {},
   "outputs": [
    {
     "name": "stderr",
     "output_type": "stream",
     "text": [
      "c:\\Users\\P306726\\Uni\\2023-2024\\Student\\NLP\\project\\.venv\\Lib\\site-packages\\tqdm\\auto.py:21: TqdmWarning: IProgress not found. Please update jupyter and ipywidgets. See https://ipywidgets.readthedocs.io/en/stable/user_install.html\n",
      "  from .autonotebook import tqdm as notebook_tqdm\n"
     ]
    },
    {
     "name": "stdout",
     "output_type": "stream",
     "text": [
      "cuda\n"
     ]
    }
   ],
   "source": [
    "import torch\n",
    "from datasets import load_dataset\n",
    "from transformers import Seq2SeqTrainingArguments, Seq2SeqTrainer\n",
    "from transformers import BartTokenizer, BartForConditionalGeneration\n",
    "\n",
    "# make sure to include cuda\n",
    "device = torch.device(\"cuda\" if torch.cuda.is_available() else \"cpu\")\n",
    "print(device)\n",
    "\n",
    "model = BartForConditionalGeneration.from_pretrained('facebook/bart-base')\n",
    "tokenizer = BartTokenizer.from_pretrained('facebook/bart-base')"
   ]
  },
  {
   "cell_type": "code",
   "execution_count": null,
   "metadata": {},
   "outputs": [],
   "source": [
    "data = load_dataset(\"allenai/sciq\")\n",
    "train_data = data['train']\n",
    "val_data = data['validation']"
   ]
  },
  {
   "cell_type": "code",
   "execution_count": null,
   "metadata": {},
   "outputs": [],
   "source": [
    "max_input = 512\n",
    "max_target = 128\n",
    "batch_size = 2"
   ]
  },
  {
   "cell_type": "code",
   "execution_count": null,
   "metadata": {},
   "outputs": [],
   "source": [
    "# dataset has:\n",
    "# question, distractor3, distractor1, distractor2, correct_answer, support\n",
    "def pre_process_data(data):\n",
    "    # tokenize the data\n",
    "    inputs = tokenizer(\n",
    "        data['question'],\n",
    "        data['support'],\n",
    "        max_length=384,\n",
    "        padding=\"max_length\",\n",
    "        truncation=\"only_second\",\n",
    "        return_tensors=\"pt\"\n",
    "      )\n",
    "    targets = tokenizer(\n",
    "        data['correct_answer'],\n",
    "        max_length=128,\n",
    "        padding=\"max_length\",\n",
    "        truncation=True,\n",
    "        return_tensors=\"pt\"\n",
    "      )\n",
    "    # update the input_ids and attention_mask\n",
    "    inputs[\"input_ids\"] = inputs[\"input_ids\"].squeeze()\n",
    "    inputs[\"attention_mask\"] = inputs[\"attention_mask\"].squeeze()\n",
    "    targets[\"input_ids\"] = targets[\"input_ids\"].squeeze()\n",
    "    targets[\"attention_mask\"] = targets[\"attention_mask\"].squeeze()\n",
    "    return {\n",
    "        \"source_ids\": inputs[\"input_ids\"],\n",
    "        \"source_mask\": inputs[\"attention_mask\"],\n",
    "        \"target_ids\": targets[\"input_ids\"],\n",
    "        # \"target_mask\": targets[\"attention_mask\"],\n",
    "    }\n",
    "\n",
    "\n",
    "    \n",
    "train_data = train_data.map(pre_process_data, batched=True).shuffle(seed=42).select(range(1000))\n",
    "val_data = val_data.map(pre_process_data, batched=True).shuffle(seed=42).select(range(100))"
   ]
  },
  {
   "cell_type": "code",
   "execution_count": null,
   "metadata": {},
   "outputs": [],
   "source": [
    "# empty memory\n",
    "torch.cuda.empty_cache()\n",
    "# Set the environment variable\n",
    "# make PYTORCH_CUDA_ALLOC_CONF True\n",
    "PYTORCH_CUDA_ALLOC_CONF = True"
   ]
  },
  {
   "cell_type": "code",
   "execution_count": null,
   "metadata": {},
   "outputs": [],
   "source": [
    "model.to(device)\n",
    "args = Seq2SeqTrainingArguments(\n",
    "    output_dir=\"./results_option_generation\",\n",
    "    evaluation_strategy='epoch',\n",
    "    learning_rate=2e-5,\n",
    "    per_device_train_batch_size=batch_size,\n",
    "    per_device_eval_batch_size= batch_size,\n",
    "    gradient_accumulation_steps=2,\n",
    "    weight_decay=0.01,\n",
    "    save_total_limit=2,\n",
    "    num_train_epochs=32,\n",
    "    predict_with_generate=True,\n",
    "    eval_accumulation_steps=32,\n",
    "    fp16=True #available only with CUDA\n",
    ")\n",
    "\n",
    "\n",
    "trainer = Seq2SeqTrainer(\n",
    "    model, \n",
    "    args,\n",
    "    train_dataset=train_data,\n",
    "    eval_dataset=val_data,\n",
    "    tokenizer=tokenizer,\n",
    ")\n",
    "\n",
    "trainer.train()\n"
   ]
  },
  {
   "cell_type": "code",
   "execution_count": 4,
   "metadata": {},
   "outputs": [],
   "source": [
    "# lets save the model\n",
    "#!!! we also have the one with context.\n",
    "OUT_DIR = \"sciq_correct_answer_generator\""
   ]
  },
  {
   "cell_type": "code",
   "execution_count": null,
   "metadata": {},
   "outputs": [],
   "source": [
    "model.save_pretrained(OUT_DIR)\n",
    "tokenizer.save_pretrained(OUT_DIR)"
   ]
  },
  {
   "cell_type": "code",
   "execution_count": 5,
   "metadata": {},
   "outputs": [],
   "source": [
    "from transformers import BartTokenizer, BartForConditionalGeneration\n",
    "\n",
    "model = BartForConditionalGeneration.from_pretrained(f\"./{OUT_DIR}\")\n",
    "tokenizer = BartTokenizer.from_pretrained(f\"./{OUT_DIR}\")\n",
    "# put them both on the same device\n",
    "_ = model.to(device)"
   ]
  },
  {
   "cell_type": "code",
   "execution_count": 8,
   "metadata": {},
   "outputs": [
    {
     "name": "stdout",
     "output_type": "stream",
     "text": [
      "particle accelerators\n"
     ]
    }
   ],
   "source": [
    "input_text = \"What amazing machines smash particles that are smaller than atoms into each other head-on?\"\n",
    "support = \"Scientists have built machines called particle accelerators. These amazing tools smash particles that are smaller than atoms into each other head-on. This creates new particles. Scientists use particle accelerators to learn about nuclear fusion in stars. They can also learn about how atoms came together in the early universe. Two well-known accelerators are SLAC, in California, and CERN, in Switzerland.\"\n",
    "\n",
    "input_ids = tokenizer(input_text, support, return_tensors=\"pt\").input_ids.to(device)\n",
    "output = model.generate(input_ids, max_length=128, early_stopping=True)\n",
    "outputs = [tokenizer.decode(g, skip_special_tokens=True, clean_up_tokenization_spaces=False) for g in output]\n",
    "print(outputs[0])\n"
   ]
  }
 ],
 "metadata": {
  "kernelspec": {
   "display_name": "Python 3 (ipykernel)",
   "language": "python",
   "name": "python3"
  },
  "language_info": {
   "codemirror_mode": {
    "name": "ipython",
    "version": 3
   },
   "file_extension": ".py",
   "mimetype": "text/x-python",
   "name": "python",
   "nbconvert_exporter": "python",
   "pygments_lexer": "ipython3",
   "version": "3.10.12"
  }
 },
 "nbformat": 4,
 "nbformat_minor": 2
}
